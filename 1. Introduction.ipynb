{
 "cells": [
  {
   "cell_type": "markdown",
   "id": "9f9408ad",
   "metadata": {},
   "source": [
    "## Introduction - Getting started with Python "
   ]
  },
  {
   "cell_type": "code",
   "execution_count": 1,
   "id": "fdbe6079",
   "metadata": {},
   "outputs": [
    {
     "data": {
      "text/plain": [
       "5"
      ]
     },
     "execution_count": 1,
     "metadata": {},
     "output_type": "execute_result"
    }
   ],
   "source": [
    "#Addition\n",
    "2+3"
   ]
  },
  {
   "cell_type": "code",
   "execution_count": 2,
   "id": "b4246b00",
   "metadata": {},
   "outputs": [
    {
     "data": {
      "text/plain": [
       "8"
      ]
     },
     "execution_count": 2,
     "metadata": {},
     "output_type": "execute_result"
    }
   ],
   "source": [
    "#subtraction\n",
    "9-1"
   ]
  },
  {
   "cell_type": "code",
   "execution_count": 4,
   "id": "70d2fd24",
   "metadata": {},
   "outputs": [
    {
     "data": {
      "text/plain": [
       "6"
      ]
     },
     "execution_count": 4,
     "metadata": {},
     "output_type": "execute_result"
    }
   ],
   "source": [
    "#Multiplication\n",
    "2*3"
   ]
  },
  {
   "cell_type": "code",
   "execution_count": 6,
   "id": "3e2fe738",
   "metadata": {},
   "outputs": [
    {
     "data": {
      "text/plain": [
       "2.5"
      ]
     },
     "execution_count": 6,
     "metadata": {},
     "output_type": "execute_result"
    }
   ],
   "source": [
    "#Division\n",
    "5/2"
   ]
  },
  {
   "cell_type": "code",
   "execution_count": 7,
   "id": "f3e0eeeb",
   "metadata": {},
   "outputs": [
    {
     "data": {
      "text/plain": [
       "2"
      ]
     },
     "execution_count": 7,
     "metadata": {},
     "output_type": "execute_result"
    }
   ],
   "source": [
    "#Integer Division or Floor Division - This is used when we need only Quotient part of division\n",
    "5//2"
   ]
  },
  {
   "cell_type": "code",
   "execution_count": 8,
   "id": "7f588736",
   "metadata": {},
   "outputs": [
    {
     "data": {
      "text/plain": [
       "7"
      ]
     },
     "execution_count": 8,
     "metadata": {},
     "output_type": "execute_result"
    }
   ],
   "source": [
    "#combination of Arthematic operators\n",
    "8+9-10"
   ]
  },
  {
   "cell_type": "code",
   "execution_count": 9,
   "id": "cd9ed9d6",
   "metadata": {},
   "outputs": [
    {
     "data": {
      "text/plain": [
       "14"
      ]
     },
     "execution_count": 9,
     "metadata": {},
     "output_type": "execute_result"
    }
   ],
   "source": [
    "8+2*3"
   ]
  },
  {
   "cell_type": "code",
   "execution_count": 10,
   "id": "0daa0c86",
   "metadata": {},
   "outputs": [
    {
     "data": {
      "text/plain": [
       "30"
      ]
     },
     "execution_count": 10,
     "metadata": {},
     "output_type": "execute_result"
    }
   ],
   "source": [
    "(8+2)*3"
   ]
  },
  {
   "cell_type": "code",
   "execution_count": 11,
   "id": "cdb61c77",
   "metadata": {},
   "outputs": [
    {
     "data": {
      "text/plain": [
       "8"
      ]
     },
     "execution_count": 11,
     "metadata": {},
     "output_type": "execute_result"
    }
   ],
   "source": [
    "#Exponent (instead of 2*2*2 we can do exponent (2 ** 3))\n",
    "2 ** 3"
   ]
  },
  {
   "cell_type": "code",
   "execution_count": 12,
   "id": "cd03db63",
   "metadata": {},
   "outputs": [
    {
     "data": {
      "text/plain": [
       "1"
      ]
     },
     "execution_count": 12,
     "metadata": {},
     "output_type": "execute_result"
    }
   ],
   "source": [
    "#Modulus (Remainder)\n",
    "10%3"
   ]
  },
  {
   "cell_type": "markdown",
   "id": "fdcc7713",
   "metadata": {},
   "source": [
    "#### Strings - Can be represented in single or double cots"
   ]
  },
  {
   "cell_type": "code",
   "execution_count": 13,
   "id": "a5da2d77",
   "metadata": {},
   "outputs": [
    {
     "data": {
      "text/plain": [
       "'Ketha'"
      ]
     },
     "execution_count": 13,
     "metadata": {},
     "output_type": "execute_result"
    }
   ],
   "source": [
    "#String\n",
    "'Ketha'"
   ]
  },
  {
   "cell_type": "code",
   "execution_count": 14,
   "id": "a83643cc",
   "metadata": {},
   "outputs": [
    {
     "name": "stdout",
     "output_type": "stream",
     "text": [
      "Ketha\n"
     ]
    }
   ],
   "source": [
    "#Print - Print is a build-in function. Fuction means set of tasks that can be excecuted. We can execute fucnction simply by calling them. We can define our own functions also. \n",
    "print('Ketha')"
   ]
  },
  {
   "cell_type": "code",
   "execution_count": 16,
   "id": "eea56ba1",
   "metadata": {},
   "outputs": [
    {
     "ename": "SyntaxError",
     "evalue": "invalid syntax (<ipython-input-16-d364398d4c18>, line 1)",
     "output_type": "error",
     "traceback": [
      "\u001b[0;36m  File \u001b[0;32m\"<ipython-input-16-d364398d4c18>\"\u001b[0;36m, line \u001b[0;32m1\u001b[0m\n\u001b[0;31m    print('Ketha's Book')\u001b[0m\n\u001b[0m                 ^\u001b[0m\n\u001b[0;31mSyntaxError\u001b[0m\u001b[0;31m:\u001b[0m invalid syntax\n"
     ]
    }
   ],
   "source": [
    "print('Ketha's Book')"
   ]
  },
  {
   "cell_type": "markdown",
   "id": "94ef9910",
   "metadata": {},
   "source": [
    "In the above we got error because we do have multiple single cots. Here the string starts from K and ends at a. So, we can solve this problem in 2 ways as below"
   ]
  },
  {
   "cell_type": "code",
   "execution_count": 19,
   "id": "b5ee0347",
   "metadata": {},
   "outputs": [
    {
     "name": "stdout",
     "output_type": "stream",
     "text": [
      "Ketha's Book\n"
     ]
    }
   ],
   "source": [
    "#1. Use double cots\n",
    "print(\"Ketha's Book\")"
   ]
  },
  {
   "cell_type": "code",
   "execution_count": 25,
   "id": "5e885a97",
   "metadata": {},
   "outputs": [
    {
     "name": "stdout",
     "output_type": "stream",
     "text": [
      "Ketha's Book\n"
     ]
    }
   ],
   "source": [
    "#2. We need to tell Python to skip the special meaning of that single cote. We can do that by giving a back slash before s.\n",
    "print('Ketha\\'s Book')"
   ]
  },
  {
   "cell_type": "markdown",
   "id": "adcd97ab",
   "metadata": {},
   "source": [
    "#### Print string multiple times"
   ]
  },
  {
   "cell_type": "code",
   "execution_count": 28,
   "id": "df35780e",
   "metadata": {},
   "outputs": [
    {
     "data": {
      "text/plain": [
       "'kethakethakethakethaketha'"
      ]
     },
     "execution_count": 28,
     "metadata": {},
     "output_type": "execute_result"
    }
   ],
   "source": [
    "# There are 2 ways\n",
    "# 1. using concatenation\n",
    "'ketha' + 'ketha' + 'ketha' + 'ketha' + 'ketha'"
   ]
  },
  {
   "cell_type": "code",
   "execution_count": 29,
   "id": "3590e4fe",
   "metadata": {},
   "outputs": [
    {
     "data": {
      "text/plain": [
       "'kethakethakethakethakethakethakethakethakethaketha'"
      ]
     },
     "execution_count": 29,
     "metadata": {},
     "output_type": "execute_result"
    }
   ],
   "source": [
    "# 2. multiply string with int\n",
    "10 * 'ketha'"
   ]
  },
  {
   "cell_type": "markdown",
   "id": "1ff42a0a",
   "metadata": {},
   "source": [
    "#### \\n Issues"
   ]
  },
  {
   "cell_type": "code",
   "execution_count": 30,
   "id": "2b73dc44",
   "metadata": {},
   "outputs": [
    {
     "name": "stdout",
     "output_type": "stream",
     "text": [
      "C:/Documents\n",
      "arendra\r",
      "eddy\n"
     ]
    }
   ],
   "source": [
    "print('C:/Documents\\narendra\\reddy')"
   ]
  },
  {
   "cell_type": "markdown",
   "id": "23652516",
   "metadata": {},
   "source": [
    "In the above code we expected the o/p would be : C:/Documents\\narendra\\reddy but we got different o/p. This is bcz in Python for \\n we have different meaning. \\n - means new line. If we want to print as it is then we need to cancel that special meaning. If we want to print the string as it is then it is called Raw String."
   ]
  },
  {
   "cell_type": "code",
   "execution_count": 31,
   "id": "6879104b",
   "metadata": {},
   "outputs": [
    {
     "name": "stdout",
     "output_type": "stream",
     "text": [
      "C:/Documents\\narendra\\reddy\n"
     ]
    }
   ],
   "source": [
    "print(r'C:/Documents\\narendra\\reddy')"
   ]
  },
  {
   "cell_type": "code",
   "execution_count": 33,
   "id": "6bb0c14e",
   "metadata": {},
   "outputs": [
    {
     "name": "stdout",
     "output_type": "stream",
     "text": [
      "5\n",
      "2\n",
      "6\n",
      "1.5\n",
      "9\n",
      "1\n",
      "1\n",
      "<class 'int'>\n",
      "<class 'float'>\n",
      "<class 'complex'>\n",
      "<class 'str'>\n",
      "<class 'list'>\n",
      "<class 'dict'>\n",
      "<class 'set'>\n",
      "<class 'tuple'>\n"
     ]
    }
   ],
   "source": [
    "print(2 + 3)   # addition(+)\n",
    "print(3 - 1)   # subtraction(-)\n",
    "print(2 * 3)   # multiplication(*)\n",
    "print(3 / 2)   # division(/)\n",
    "print(3 ** 2)  # exponential(**)\n",
    "print(3 % 2)   # modulus(%)\n",
    "print(3 // 2)  # Floor division operator(//)\n",
    "\n",
    "# Checking data types\n",
    "\n",
    "print(type(10))                  # Int\n",
    "print(type(3.14))                # Float\n",
    "print(type(1 + 3j))              # Complex\n",
    "print(type('Ketha'))          # String\n",
    "print(type([1, 2, 3]))           # List\n",
    "print(type({'name':'Ketha'})) # Dictionary\n",
    "print(type({9.8, 3.14, 2.7}))    # Set\n",
    "print(type((9.8, 3.14, 2.7)))    # Tuple"
   ]
  },
  {
   "cell_type": "code",
   "execution_count": null,
   "id": "f5168e56",
   "metadata": {},
   "outputs": [],
   "source": []
  }
 ],
 "metadata": {
  "kernelspec": {
   "display_name": "py38_default",
   "language": "python",
   "name": "conda-env-py38_default-py"
  },
  "language_info": {
   "codemirror_mode": {
    "name": "ipython",
    "version": 3
   },
   "file_extension": ".py",
   "mimetype": "text/x-python",
   "name": "python",
   "nbconvert_exporter": "python",
   "pygments_lexer": "ipython3",
   "version": "3.8.10"
  }
 },
 "nbformat": 4,
 "nbformat_minor": 5
}
